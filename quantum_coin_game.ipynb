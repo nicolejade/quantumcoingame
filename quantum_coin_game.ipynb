{
 "cells": [
  {
   "cell_type": "markdown",
   "metadata": {
    "id": "WbGFJkRFSDZp"
   },
   "source": [
    "Nicole David\n",
    "\n",
    "IST362 - Final Project\n",
    "\n",
    "# **Quantum Coin Game**"
   ]
  },
  {
   "cell_type": "markdown",
   "metadata": {
    "id": "bmoUffTTSw-s"
   },
   "source": [
    "### **How to play in human terms**\n",
    "\n",
    "The quantum coin game involves a coin, a quantum computer, and a human. At the start of the game, the quantum computer puts a coin into superposition. Then, the human can decide to flip the coin, or not. In the last round, the quantum computer either flips the coin, or not.\n",
    "\n",
    "At the end of the game, if the revealed coin is heads up, the quantum computer wins."
   ]
  },
  {
   "cell_type": "markdown",
   "metadata": {
    "id": "4ecjN5E3S4nr"
   },
   "source": [
    "## **How to play in quantum computing terms**\n",
    "\n",
    "**The coin** is represented by a single qubit gate:\n",
    "\n",
    "$$\n",
    "      |\\psi\\rangle=\\begin{bmatrix}\\alpha \\\\ \\beta\\end{bmatrix}\n",
    "$$\n",
    "\n",
    "where $\\alpha, \\beta \\in \\mathbb{C}$ and $|\\alpha|^2 + |\\beta|^2 = 1$.\n",
    "\n",
    "**Heads** looks like:\n",
    "$$|0\\rangle = \\begin{bmatrix} 1 \\\\ 0 \\end{bmatrix}$$\n",
    "\n",
    "**Tails** looks like:\n",
    "\n",
    "$$|1\\rangle = \\begin{bmatrix} 0 \\\\ 1 \\end{bmatrix}$$\n",
    "\n",
    "The **Hadamard operator** is what puts the coin into superposition:\n",
    "\n",
    "$$H = \\frac{1}{\\sqrt{2}} \\begin{bmatrix}  1 & 1 \\\\ 1 & -1 \\end{bmatrix}$$\n",
    "\n",
    "**A coin in superposition** looks like:\n",
    "\n",
    "$$H|0\\rangle = |+\\rangle = \\frac{1}{\\sqrt{2}} \\begin{bmatrix}  1 \\\\ 1 \\end{bmatrix}$$\n",
    "\n",
    "A human can **flip the coin** by applying a bit-flip operator:\n",
    "\n",
    "$$\n",
    "  X = \\begin{bmatrix} 0 & 1 \\\\ 1 & 0 \\end{bmatrix}\n",
    "$$\n",
    "\n",
    "A quantum computer can **flip the coin** by applying the Hadamard gate.\n"
   ]
  },
  {
   "cell_type": "markdown",
   "metadata": {
    "id": "LNDL9gHFVCbO"
   },
   "source": [
    "## Set up the game:"
   ]
  },
  {
   "cell_type": "code",
   "execution_count": null,
   "metadata": {
    "colab": {
     "base_uri": "https://localhost:8080/",
     "height": 1000
    },
    "id": "uaLObq6hdTwi",
    "outputId": "329ce2e9-1ef6-4189-ee42-2a5bc9f32414"
   },
   "outputs": [],
   "source": [
    "# things you may need to install and then restart the kernel\n",
    "#!pip install --upgrade pip\n",
    "#!pip install qiskit\n",
    "#!pip install pylatexenc\n",
    "#!pip install qiskit-Aer\n",
    "#!pip install qiskit-ibmq-provider"
   ]
  },
  {
   "cell_type": "code",
   "execution_count": 1,
   "metadata": {
    "id": "TVNzgPIyVLXz",
    "tags": []
   },
   "outputs": [],
   "source": [
    "# Importing all the necessary library\n",
    "\n",
    "from qiskit import QuantumCircuit, Aer, IBMQ, QuantumRegister, ClassicalRegister, execute\n",
    "from qiskit.tools.jupyter import *\n",
    "from qiskit.visualization import *\n",
    "import qiskit.tools.jupyter\n",
    "import ipywidgets as widgets"
   ]
  },
  {
   "cell_type": "code",
   "execution_count": 2,
   "metadata": {
    "id": "CrooHzxVVQfd",
    "tags": []
   },
   "outputs": [],
   "source": [
    "# Building the initial circuit\n",
    "\n",
    "def initial_circuit():\n",
    "    circuit = QuantumRegister(1, 'circuit')\n",
    "    measure = ClassicalRegister(1, 'result')\n",
    "    qc = QuantumCircuit(circuit, measure)\n",
    "    qc.draw('mpl')\n",
    "    return qc, circuit, measure"
   ]
  },
  {
   "cell_type": "code",
   "execution_count": 3,
   "metadata": {
    "id": "kZ47Vf2JVemR",
    "tags": []
   },
   "outputs": [],
   "source": [
    "# Widget Initialization\n",
    "\n",
    "gate = widgets.Dropdown(\n",
    "    options=[('Identity', 'i'), ('Bit Flip', 'x')],\n",
    "    description='Choice: ',\n",
    "    disabled=False,\n",
    ")"
   ]
  },
  {
   "cell_type": "markdown",
   "metadata": {
    "id": "oJrcdIwRWKJd"
   },
   "source": [
    "## Build the initial circuit"
   ]
  },
  {
   "cell_type": "code",
   "execution_count": 4,
   "metadata": {
    "colab": {
     "base_uri": "https://localhost:8080/"
    },
    "id": "aRz4bOzeVhKl",
    "outputId": "58bf6e88-dbf1-407e-850d-38efd775e1f2",
    "tags": []
   },
   "outputs": [],
   "source": [
    "qc, circuit, measure = initial_circuit()"
   ]
  },
  {
   "cell_type": "markdown",
   "metadata": {
    "id": "NIq9AdpKV7k4"
   },
   "source": [
    "## Put your coin in superposition:"
   ]
  },
  {
   "cell_type": "code",
   "execution_count": 5,
   "metadata": {
    "colab": {
     "base_uri": "https://localhost:8080/",
     "height": 191
    },
    "id": "1AK3gz8kVkmb",
    "outputId": "5bf9d994-b95a-480b-8b32-5fbdb71ede4b",
    "tags": []
   },
   "outputs": [
    {
     "data": {
      "image/png": "[encoded data removed]",
      "text/plain": [
       "<Figure size 256.769x200.667 with 1 Axes>"
      ]
     },
     "execution_count": 5,
     "metadata": {},
     "output_type": "execute_result"
    }
   ],
   "source": [
    "# Use H Gate\n",
    "\n",
    "qc.h(circuit[0])\n",
    "qc.draw('mpl')"
   ]
  },
  {
   "cell_type": "markdown",
   "metadata": {
    "id": "NBf5gkrgWU4g"
   },
   "source": [
    "## Human's turn: flip the coin, or not"
   ]
  },
  {
   "cell_type": "code",
   "execution_count": 6,
   "metadata": {
    "colab": {
     "base_uri": "https://localhost:8080/",
     "height": 248
    },
    "id": "bJTwpo06WSAX",
    "outputId": "5ea7a7e8-6842-4ab6-b309-7ae9669df586",
    "tags": []
   },
   "outputs": [
    {
     "data": {
      "image/png": "[encoded data removed]",
      "text/plain": [
       "<Figure size 340.38x200.667 with 1 Axes>"
      ]
     },
     "execution_count": 6,
     "metadata": {},
     "output_type": "execute_result"
    }
   ],
   "source": [
    "if gate.value == 'i':\n",
    "    qc.i(circuit[0])\n",
    "if gate.value == 'x':\n",
    "    qc.x(circuit[0])\n",
    "\n",
    "qc.draw('mpl')"
   ]
  },
  {
   "cell_type": "markdown",
   "metadata": {
    "id": "brNKyXdnWfB9"
   },
   "source": [
    "## Quantum Computer's turn:"
   ]
  },
  {
   "cell_type": "code",
   "execution_count": 7,
   "metadata": {
    "colab": {
     "base_uri": "https://localhost:8080/",
     "height": 191
    },
    "id": "PxomAAn7WbNh",
    "outputId": "51312e54-9191-41cd-bc12-d358bff266b8",
    "tags": []
   },
   "outputs": [
    {
     "data": {
      "image/png": "[encoded data removed]",
      "text/plain": [
       "<Figure size 423.992x200.667 with 1 Axes>"
      ]
     },
     "execution_count": 7,
     "metadata": {},
     "output_type": "execute_result"
    }
   ],
   "source": [
    "# Used H Gate\n",
    "\n",
    "qc.h(circuit[0])\n",
    "qc.draw('mpl')"
   ]
  },
  {
   "cell_type": "markdown",
   "metadata": {
    "id": "XAepA1bYWtg_"
   },
   "source": [
    "## Measurement:"
   ]
  },
  {
   "cell_type": "code",
   "execution_count": 8,
   "metadata": {
    "colab": {
     "base_uri": "https://localhost:8080/",
     "height": 191
    },
    "id": "jv_exWoLWqCp",
    "outputId": "e6ec4a13-13e5-45e3-ac84-1f09af4c8654",
    "tags": []
   },
   "outputs": [
    {
     "data": {
      "image/png": "[encoded data removed]",
      "text/plain": [
       "<Figure size 507.603x200.667 with 1 Axes>"
      ]
     },
     "execution_count": 8,
     "metadata": {},
     "output_type": "execute_result"
    }
   ],
   "source": [
    "qc.measure(circuit, measure)\n",
    "qc.draw('mpl')"
   ]
  },
  {
   "cell_type": "markdown",
   "metadata": {
    "id": "YWLFSUP6WyKu"
   },
   "source": [
    "## QASM_Simulator"
   ]
  },
  {
   "cell_type": "code",
   "execution_count": 9,
   "metadata": {
    "colab": {
     "base_uri": "https://localhost:8080/",
     "height": 467
    },
    "id": "0gdNdQ5qWvYu",
    "outputId": "9140ad22-e35d-42fe-bf2d-19af55c12f38",
    "tags": []
   },
   "outputs": [
    {
     "name": "stdout",
     "output_type": "stream",
     "text": [
      "{'0': 8192}\n"
     ]
    },
    {
     "data": {
      "image/png": "[encoded data removed]",
      "text/plain": [
       "<Figure size 700x500 with 1 Axes>"
      ]
     },
     "execution_count": 9,
     "metadata": {},
     "output_type": "execute_result"
    }
   ],
   "source": [
    "# if you have not already, you probably need to install qiskit-aer to run this\n",
    "#!pip install qiskit-Aer\n",
    "\n",
    "backend = Aer.get_backend('aer_simulator')\n",
    "job = execute(qc, backend, shots=8192)\n",
    "res = job.result().get_counts()\n",
    "print(res)\n",
    "plot_histogram(res)"
   ]
  },
  {
   "cell_type": "markdown",
   "metadata": {
    "id": "pTmsuKz6XHmQ"
   },
   "source": [
    "## Who Wins?"
   ]
  },
  {
   "cell_type": "code",
   "execution_count": 10,
   "metadata": {
    "colab": {
     "base_uri": "https://localhost:8080/"
    },
    "id": "WWYM93cNW1uz",
    "outputId": "3d31ae67-30e6-4b72-cf7a-78f3d36c08c8",
    "tags": []
   },
   "outputs": [
    {
     "name": "stdout",
     "output_type": "stream",
     "text": [
      "Quantum Computer Wins\n"
     ]
    }
   ],
   "source": [
    "if len(res) == 1 and list(res.keys())[0] == '0':\n",
    "    print(\"Quantum Computer Wins\")\n",
    "if len(res) == 1 and list(res.keys())[0] == '1':\n",
    "    print(\"Classical Human Wins\")\n",
    "if len(res) == 2:\n",
    "    print(\"Either Quantum Computer or Classical Human Wins\")"
   ]
  },
  {
   "cell_type": "markdown",
   "metadata": {
    "id": "YhRPlqc2XN_n"
   },
   "source": [
    "### In this perfect simulation, the computer won every single time.\n",
    "\n",
    "### What happens when we play with an actual quantum computer?"
   ]
  },
  {
   "cell_type": "code",
   "execution_count": 11,
   "metadata": {
    "colab": {
     "base_uri": "https://localhost:8080/"
    },
    "id": "doKq0pYsemp5",
    "outputId": "a5af49d3-f0df-4600-e335-11497012e75c",
    "tags": []
   },
   "outputs": [
    {
     "name": "stdout",
     "output_type": "stream",
     "text": [
      "Traceback \u001b[1;36m(most recent call last)\u001b[0m:\n",
      "\u001b[0m  Cell \u001b[0;32mIn[11], line 2\u001b[0m\n",
      "    IBMQ.save_account('') #put your api key here\u001b[0m\n",
      "\u001b[1;36m  File \u001b[1;32m/opt/conda/lib/python3.10/site-packages/qiskit/providers/ibmq/ibmqfactory.py:257\u001b[1;36m in \u001b[1;35msave_account\u001b[1;36m\n",
      "\u001b[1;33m    raise IBMQAccountCredentialsInvalidToken(\u001b[1;36m\n",
      "\u001b[1;31mIBMQAccountCredentialsInvalidToken\u001b[0m\u001b[1;31m:\u001b[0m 'Invalid IBM Quantum Experience token found: \"\" of type <class \\'str\\'>.'\n",
      "\n",
      "Use %tb to get the full traceback.\n"
     ]
    },
    {
     "name": "stderr",
     "output_type": "stream",
     "text": [
      "/tmp/ipykernel_163/3331772826.py:2: DeprecationWarning: The qiskit.IBMQ entrypoint and the qiskit-ibmq-provider package (accessible from 'qiskit.providers.ibmq`) are deprecated and will be removed in a future release. Instead you should use the qiskit-ibm-provider package which is accessible from 'qiskit_ibm_provider'. You can install it with 'pip install qiskit_ibm_provider'. Just replace 'qiskit.IBMQ' with 'qiskit_ibm_provider.IBMProvider'\n",
      "  IBMQ.save_account('') #put your api key here\n"
     ]
    },
    {
     "data": {
      "text/html": [
       "\n",
       "<style>\n",
       ".button {\n",
       "  border: none;\n",
       "  color: white;\n",
       "  padding: 4px 8px;\n",
       "  text-align: center;\n",
       "  text-decoration: none;\n",
       "  display: inline-block;\n",
       "  font-size: 12px;\n",
       "  margin: 4px 2px;\n",
       "  transition-duration: 0.2s;\n",
       "  cursor: pointer;\n",
       "}\n",
       ".iqx-button {\n",
       "  background-color: #0f62fe; \n",
       "  color: white; \n",
       "}\n",
       ".iqx-button:hover {\n",
       "  background-color: #0043ce;\n",
       "  color: white;\n",
       "}\n",
       "</style>\n",
       "<a href=\"https://stackoverflow.com/search?q=IBMQAccountCredentialsInvalidToken: Invalid IBM Quantum Experience token found: \"\" of type <class 'str'>.\" target='_blank'><button class='button iqx-button'>Search for solution online</button></a>\n"
      ],
      "text/plain": [
       "<IPython.core.display.HTML object>"
      ]
     },
     "metadata": {},
     "output_type": "display_data"
    }
   ],
   "source": [
    "from qiskit import IBMQ\n",
    "IBMQ.save_account('') #put your api key here"
   ]
  },
  {
   "cell_type": "code",
   "execution_count": null,
   "metadata": {
    "colab": {
     "base_uri": "https://localhost:8080/",
     "height": 486
    },
    "id": "aIVWoGDRXKOI",
    "outputId": "7f22d2c8-61d7-476e-9489-0e5d6dfd2b5c",
    "tags": []
   },
   "outputs": [],
   "source": [
    "#if you have not already, install this and restart after installing\n",
    "#!pip install qiskit-ibmq-provider\n",
    "provider = IBMQ.load_account()\n",
    "backend_real = provider.get_backend('ibm_kyoto')\n",
    "job_real = execute(qc, backend_real, shots=8192)\n",
    "res_real = job_real.result().get_counts()\n",
    "print(res_real)\n",
    "plot_histogram(res_real)"
   ]
  },
  {
   "cell_type": "markdown",
   "metadata": {},
   "source": [
    "### Results:\n",
    "\n",
    "**ibm_brisbane - 1st Run - 92.8%**\n",
    "* Created: Nov 30, 2023 10:33 AM\n",
    "* In queue: 5h 11m 1.2s\n",
    "* Running: Nov 30, 2023 3:44 PM\n",
    "* Qiskit runtime usage: 4s\n",
    "* Completed: Nov 30, 2023 3:44 PM\n",
    "\n",
    "**ibm_brisbane - 2nd Run - 90.6%**\n",
    "* Created: Nov 30, 2023 3:51 PM\n",
    "* In queue: 31m 4.3s\n",
    "* Running: Nov 30, 2023 4:22 PM\n",
    "* Qiskit runtime usage: 4s\n",
    "* Completed: Nov 30, 2023 4:23 PM\n",
    "\n",
    "**ibm_kyoto - 86%**\n",
    "* Created: Nov 30, 2023 3:53 PM\n",
    "* In queue: 1m 34.8s\n",
    "* Running: Nov 30, 2023 3:55 PM\n",
    "* Qiskit runtime usage: 4s\n",
    "* Completed: Nov 30, 2023 3:57 PM"
   ]
  },
  {
   "cell_type": "markdown",
   "metadata": {
    "id": "JWRLZjzihhru"
   },
   "source": [
    "# Why does the quantum computer win (nearly) every time?\n",
    "\n",
    "### **The short answer:**\n",
    "* Putting the coin in superposition eliminates its binary nature. 'Flipping the coin' in this game is less like changing from one state to another and more like mixing a solution that is already mixed. By flipping the coin/applying a Hadamard gate in the final turn, the quantum computer can always return the coin back to its original state.\n",
    "\n",
    "### **The mathematical answer:**\n",
    "\n",
    "* In this environment, non-quantum coins have an equal chance of showing heads or tails:\n",
    "\n",
    "$$\n",
    "      |\\psi\\rangle=\\begin{bmatrix}\\alpha \\\\ \\beta\\end{bmatrix}\n",
    "$$\n",
    "\n",
    "  where $\\alpha, \\beta \\in \\mathbb{C}$ and $|\\alpha|^2 + |\\beta|^2 = 1$.\n",
    "\n",
    "* Applying the Hadamard gate to a coin (initially showing heads, or |0>, in this example) puts it into superposition:\n",
    "$$H|0\\rangle = \\frac{1}{\\sqrt2}(|0\\rangle + |1\\rangle)$$\n",
    "\n",
    "* A coin in superposition looks like:\n",
    "$$H|0\\rangle = |+\\rangle = \\frac{1}{\\sqrt{2}} \\begin{bmatrix}  1 \\\\ 1 \\end{bmatrix}$$\n",
    "\n",
    "* When the human player chooses whether to flip the coin (apply the $X$ operator) or not (apply the $I$ operator), the state will always be $|+\\rangle$ because $X$ operator just flips the state vector upside down and essentially has no effect.\n",
    "\n",
    "$$ X|+\\rangle=|+\\rangle $$\n",
    "$$ I|+\\rangle=|+\\rangle $$\n",
    "\n",
    "* At the end, the quantum computer puts the coin back into superposition by applying the Hadamard gate to put it in the 'heads' state.\n",
    "\n",
    "$$H|+\\rangle = |0\\rangle$$\n",
    "\n",
    "In the end, whether the human player flips the coin or not, it does not matter because as long as the quantum computer flips the coin by applying a second Hadamard gate, the result will always match the initial state of the coin:\n",
    "\n",
    "\n",
    "<table>\n",
    "<tr>\n",
    "    <th>Start State</th>\n",
    "    <th>Superposition</th>\n",
    "    <th>Classical</th>\n",
    "    <th>Quantum</th>\n",
    "    <th>Result</th>\n",
    "    <th>Who Wins?</th>\n",
    "</tr>\n",
    "<tr>\n",
    "    <td>$|0\\rangle$</td>\n",
    "    <td>$H$</td>\n",
    "    <td>$I$</td>\n",
    "    <td>$H$</td>\n",
    "    <td>$|0\\rangle$</td>\n",
    "    <td>Quantum</td>\n",
    "</tr>\n",
    "<tr>\n",
    "    <td>$|0\\rangle$</td>\n",
    "    <td>$H$</td>\n",
    "    <td>$X$</td>\n",
    "    <td>$H$</td>\n",
    "    <td>$|0\\rangle$</td>\n",
    "    <td>Quantum</td>\n",
    "</tr>\n",
    "\n",
    "</table>"
   ]
  },
  {
   "cell_type": "markdown",
   "metadata": {
    "id": "rWvpQ3Je2yPY"
   },
   "source": [
    "### What happens if the human goes first?"
   ]
  },
  {
   "cell_type": "code",
   "execution_count": 12,
   "metadata": {
    "colab": {
     "base_uri": "https://localhost:8080/"
    },
    "id": "i8KkwmCBkcvy",
    "outputId": "ac8182ef-909b-4e53-e553-cf6538a22601",
    "tags": []
   },
   "outputs": [],
   "source": [
    "qc_h, circuit_h, measure_h = initial_circuit()"
   ]
  },
  {
   "cell_type": "code",
   "execution_count": 13,
   "metadata": {
    "colab": {
     "base_uri": "https://localhost:8080/",
     "height": 191
    },
    "id": "O4HCpqjs27ea",
    "outputId": "d6ea1d3e-6785-4ffa-e373-db51421582fb",
    "tags": []
   },
   "outputs": [
    {
     "data": {
      "image/png": "[encoded data removed]",
      "text/plain": [
       "<Figure size 256.769x200.667 with 1 Axes>"
      ]
     },
     "execution_count": 13,
     "metadata": {},
     "output_type": "execute_result"
    }
   ],
   "source": [
    "qc_h.i(circuit_h[0])\n",
    "\n",
    "qc_h.draw('mpl')"
   ]
  },
  {
   "cell_type": "code",
   "execution_count": 14,
   "metadata": {
    "colab": {
     "base_uri": "https://localhost:8080/",
     "height": 191
    },
    "id": "mQt7mwqO3GQ4",
    "outputId": "11c8a2c4-e530-4ffa-ede4-e29a3eff8140",
    "tags": []
   },
   "outputs": [
    {
     "data": {
      "image/png": "[encoded data removed]",
      "text/plain": [
       "<Figure size 340.38x200.667 with 1 Axes>"
      ]
     },
     "execution_count": 14,
     "metadata": {},
     "output_type": "execute_result"
    }
   ],
   "source": [
    "# Use H Gate\n",
    "\n",
    "qc_h.h(circuit_h[0])\n",
    "qc_h.draw('mpl')"
   ]
  },
  {
   "cell_type": "code",
   "execution_count": 15,
   "metadata": {
    "colab": {
     "base_uri": "https://localhost:8080/",
     "height": 191
    },
    "id": "70OdRwuA4FbY",
    "outputId": "1bee42ec-af3a-4e73-edae-c89511c6c5a1",
    "tags": []
   },
   "outputs": [
    {
     "data": {
      "image/png": "[encoded data removed]",
      "text/plain": [
       "<Figure size 423.992x200.667 with 1 Axes>"
      ]
     },
     "execution_count": 15,
     "metadata": {},
     "output_type": "execute_result"
    }
   ],
   "source": [
    "qc_h.x(circuit_h[0])\n",
    "qc_h.draw('mpl')"
   ]
  },
  {
   "cell_type": "code",
   "execution_count": 16,
   "metadata": {
    "colab": {
     "base_uri": "https://localhost:8080/",
     "height": 191
    },
    "id": "SN9b52v13PC4",
    "outputId": "94e82f2e-690b-4e81-c6ed-890c13531e7c",
    "tags": []
   },
   "outputs": [
    {
     "data": {
      "image/png": "[encoded data removed]",
      "text/plain": [
       "<Figure size 507.603x200.667 with 1 Axes>"
      ]
     },
     "execution_count": 16,
     "metadata": {},
     "output_type": "execute_result"
    }
   ],
   "source": [
    "qc_h.measure(circuit_h, measure_h)\n",
    "qc_h.draw('mpl')"
   ]
  },
  {
   "cell_type": "code",
   "execution_count": 17,
   "metadata": {
    "colab": {
     "base_uri": "https://localhost:8080/",
     "height": 467
    },
    "id": "FDig1cms3SE0",
    "outputId": "4dc1129a-57d4-459e-bd28-45d24bfcb3bc",
    "tags": []
   },
   "outputs": [
    {
     "name": "stdout",
     "output_type": "stream",
     "text": [
      "{'0': 4098, '1': 4094}\n"
     ]
    },
    {
     "data": {
      "image/png": "[encoded data removed]",
      "text/plain": [
       "<Figure size 700x500 with 1 Axes>"
      ]
     },
     "execution_count": 17,
     "metadata": {},
     "output_type": "execute_result"
    }
   ],
   "source": [
    "backend = Aer.get_backend('aer_simulator')\n",
    "job_h = execute(qc_h, backend, shots=8192)\n",
    "res_h = job_h.result().get_counts()\n",
    "print(res_h)\n",
    "plot_histogram(res_h)"
   ]
  },
  {
   "cell_type": "code",
   "execution_count": 18,
   "metadata": {
    "colab": {
     "base_uri": "https://localhost:8080/"
    },
    "id": "k7kr133n3j_q",
    "outputId": "4d5409da-6680-46ed-f2a5-07971ebd855c",
    "tags": []
   },
   "outputs": [
    {
     "name": "stdout",
     "output_type": "stream",
     "text": [
      "Either Quantum Computer or Classical Human Wins\n"
     ]
    }
   ],
   "source": [
    "if len(res_h) == 1 and list(res_h.keys())[0] == '0':\n",
    "    print(\"Quantum Computer Wins\")\n",
    "if len(res_h) == 1 and list(res_h.keys())[0] == '1':\n",
    "    print(\"Classical Human Wins\")\n",
    "if len(res_h) == 2:\n",
    "    print(\"Either Quantum Computer or Classical Human Wins\")"
   ]
  },
  {
   "cell_type": "code",
   "execution_count": null,
   "metadata": {
    "id": "ugSRXSHF31JV",
    "tags": []
   },
   "outputs": [],
   "source": [
    "# run it on a real quantum system\n",
    "# add in your IBM quantum API key in the line below with ' ' to run it on a real quantum computer\n",
    "provider = IBMQ.load_account()\n",
    "backend_real = provider.get_backend('ibm_brisbane')\n",
    "job_real_h = execute(qc_h, backend_real, shots=8192)\n",
    "res_real_h = job_real_h.result().get_counts()\n",
    "print(res_real_h)\n",
    "plot_histogram(res_real_h)"
   ]
  },
  {
   "cell_type": "markdown",
   "metadata": {},
   "source": [
    "## Results:\n",
    "\n",
    "**ibm_brisbane - Human first, 1st Run - 44.3%**\n",
    "* Created: Nov 30, 2023 3:55 PM\n",
    "* In queue: 28m 22.5s\n",
    "* Running: Nov 30, 2023 4:23 PM\n",
    "* Qiskit runtime usage: 4s\n",
    "* Completed: Nov 30, 2023 4:23 PM\n"
   ]
  },
  {
   "cell_type": "markdown",
   "metadata": {},
   "source": [
    "### Here's where I experimented to understand why this happened:"
   ]
  },
  {
   "cell_type": "code",
   "execution_count": null,
   "metadata": {
    "tags": []
   },
   "outputs": [],
   "source": [
    "# experiment here to see who wins on simulators\n",
    "#qc_hn, circuit_hn, measure_hn = initial_circuit()\n",
    "#qc_hn.h(circuit_hn[0])\n",
    "#qc_hn.i(circuit_hn[0])\n",
    "#qc_hn.h(circuit_hn[0])\n",
    "#qc_hn.x(circuit_hn[0])\n",
    "#qc_hn.h(circuit_hn[0])\n",
    "#qc_hn.h(circuit_hn[0])\n",
    "#qc_hn.measure(circuit_hn, measure_hn)\n",
    "#qc_hn.draw('mpl')"
   ]
  },
  {
   "cell_type": "code",
   "execution_count": null,
   "metadata": {
    "tags": []
   },
   "outputs": [],
   "source": [
    "#backend = Aer.get_backend('aer_simulator')\n",
    "#job_hn = execute(qc_hn, backend, shots=8192)\n",
    "#res_hn = job_hn.result().get_counts()\n",
    "#print(res_hn)\n",
    "#plot_histogram(res_hn)"
   ]
  },
  {
   "cell_type": "markdown",
   "metadata": {},
   "source": [
    "## Limitations:\n",
    "\n",
    "### **Why does the quantum computer need an even number of Hadamard gates to win the game?**\n",
    "\n",
    "A Hadamard gate rotates the qubit along a Bloch sphere (about 90 degrees on the y-axis and 180 degrees on the x-axis). The first rotation puts the qubit into superposition and the second rotation returns the qubit back to its original state.\n",
    "\n",
    "Let's test this:"
   ]
  },
  {
   "cell_type": "code",
   "execution_count": null,
   "metadata": {
    "tags": []
   },
   "outputs": [],
   "source": [
    "qc_t, circuit_t, measure_t = initial_circuit()\n",
    "#qc_t.h(circuit_t[0])\n",
    "#qc_t.i(circuit_t[0])\n",
    "#qc_t.h(circuit_t[0])\n",
    "qc_t.x(circuit_t[0])\n",
    "qc_t.h(circuit_t[0])\n",
    "qc_t.h(circuit_t[0])\n",
    "qc_t.measure(circuit_t, measure_t)\n",
    "qc_t.draw('mpl')"
   ]
  },
  {
   "cell_type": "code",
   "execution_count": null,
   "metadata": {
    "tags": []
   },
   "outputs": [],
   "source": [
    "backend = Aer.get_backend('aer_simulator')\n",
    "job_t = execute(qc_t, backend, shots=8192)\n",
    "res_t = job_t.result()\n",
    "res_t = job_t.result().get_counts()\n",
    "print(res_t)\n",
    "plot_histogram(res_t)"
   ]
  },
  {
   "cell_type": "markdown",
   "metadata": {},
   "source": [
    "We can see that the quantum computer's manipulation of the Hadamard gate can only bring the coin back to its original position. To get the coin to show a state other than its initial position would require different operations than a Hadamard gate."
   ]
  },
  {
   "cell_type": "markdown",
   "metadata": {},
   "source": [
    "# Real World Applications:\n",
    "\n",
    "In cryptography, the **coin flipping problem** refers to a situation wherein two remote players that do not trust each other must agree on a random bit by exchanging messages without relying on a third party. For example, if Alice and Bob were divorced and were on a phone call to determine who gets to keep the car, it would be hard for one of them to flip a coin and for the other to make a guess when it is assumed that one of them will be cheating. **Quantum coin flipping** is a method by which their communication over the phone call can be encrypted to ensure both parties are telling the truth. Using this methodology, Alice would convey a message with a random basis and random qubits, Bob would receive them and make a guess regarding what basis Alice used. If he's correct, he wins, and if not, he loses. Alice would then confirm the basis by sending the entire original qubit sequence and BOb would make sure that it matches what he originally received."
   ]
  },
  {
   "cell_type": "code",
   "execution_count": null,
   "metadata": {},
   "outputs": [],
   "source": []
  }
 ],
 "metadata": {
  "colab": {
   "provenance": []
  },
  "kernelspec": {
   "display_name": "Python 3 (ipykernel)",
   "language": "python",
   "name": "python3"
  },
  "language_info": {
   "codemirror_mode": {
    "name": "ipython",
    "version": 3
   },
   "file_extension": ".py",
   "mimetype": "text/x-python",
   "name": "python",
   "nbconvert_exporter": "python",
   "pygments_lexer": "ipython3",
   "version": "3.10.8"
  },
  "widgets": {
   "application/vnd.jupyter.widget-state+json": {
    "state": {},
    "version_major": 2,
    "version_minor": 0
   }
  }
 },
 "nbformat": 4,
 "nbformat_minor": 4
}
